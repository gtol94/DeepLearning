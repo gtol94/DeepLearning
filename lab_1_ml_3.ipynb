{
 "cells": [
  {
   "cell_type": "markdown",
   "metadata": {},
   "source": [
    "## Laboratory work 1. Introduction to OpenCV.\n",
    "### 1. Install OpenCV(cv2)"
   ]
  },
  {
   "cell_type": "markdown",
   "metadata": {},
   "source": [
    "https://pypi.org/project/opencv-python/"
   ]
  },
  {
   "cell_type": "code",
   "execution_count": null,
   "metadata": {},
   "outputs": [],
   "source": []
  },
  {
   "cell_type": "markdown",
   "metadata": {},
   "source": [
    "### 2. Introduction to Images and OpenCV Basics\n",
    "1. Import NumPy, MatplotLib, OpenCV(cv2)\n",
    "2. Create a variable img, initialize it with a given image 'yoda.jpg' using imread() function of cv2. If the image path is wrong, the resulting img will be none.\n",
    "3. Check the resulting img, its type, shape, data type.\n",
    "4. Display the image using matplotlib imshow() function.\n",
    "5. Display the image using cv2 imshow() function.\n",
    "6. Save this yoda image using imwrite() function, which is used to save the image in png format in current working directory.\n",
    "7. Write down what is OpenCV, importance of OpenCV."
   ]
  },
  {
   "cell_type": "code",
   "execution_count": null,
   "metadata": {},
   "outputs": [],
   "source": []
  },
  {
   "cell_type": "markdown",
   "metadata": {},
   "source": [
    "### 3. Basic operations on Images.\n",
    "    Note:\n",
    " - cv2.line(image, startPoint, endPoint, rgb, thinkness)\n",
    " - cv2.rectangle(image, topLeft, bottomRight, rgb, thinkness)\n",
    " - cv2.circle(image, center, radius, rgb, thinkness)\n",
    " - cv2.ellipse(image, center, axes, angle, startAngle, endAngle, rgb, thinkness)\n",
    " \n",
    "1. Draw an object, a black image using zeros() function, and show it using matplotlib imshow() fuction.\n",
    "2. Draw a diagonal red line with thickness of 5 px using cv2.line(image, startPoint, endPoint, rgb, thinkness).\n",
    "3. Draw a green rectangle with thickness of 3 px using cv2.rectangle(image, topLeft, bottomRight, rgb, thinkness).\n",
    "4. Draw a blue filled circle(note that the thinkness is -1) using cv2.circle(image, center, radius, rgb, thinkness).\n",
    "5. Draw a red wide down-half ellipse using cv2.ellipse(image, center, axes, angle, startAngle, endAngle, rgb, thinkness)\n",
    "6. Then create a ndarray np.array([[10,10],[150,200],[300,150],[200,50]], np.int32), which will be points.\n",
    "7. Reshape it using reshape() function (for example,in form (-1,1,2)).\n",
    "8. Draw a cyan closed quadrangle  using cv2.polylines(image, points, isClosed, rgb, thinkness, lineType, shift).\n",
    "9. Don't forget to display your drawings.\n",
    "10. Put white 'Hello OpenCV' text at the bottom using cv2.putText(image, text, bottomLeft, fontType, fontScale, rgb, thinkness, lineType)."
   ]
  },
  {
   "cell_type": "code",
   "execution_count": null,
   "metadata": {},
   "outputs": [],
   "source": []
  },
  {
   "cell_type": "markdown",
   "metadata": {},
   "source": [
    "### 4. Modify pixels & ROI (Region Of Interest).\n",
    "You can access/modify a single pixel or ROI using Numpy indexing.\n",
    "Just like matrix indexing, img[a, b] refer to a-th row and b-th column.\n",
    "\n",
    "1. Access a pixel value(BGR order).\n",
    "2. Change pixel values. You need to change any pixel on yoda image and give it value of green color\n",
    "3. ROI is obtained using Numpy indexing.\n",
    "4. Write down what if region of interest."
   ]
  },
  {
   "cell_type": "code",
   "execution_count": null,
   "metadata": {},
   "outputs": [],
   "source": []
  },
  {
   "cell_type": "markdown",
   "metadata": {},
   "source": [
    "### 5. Geometric Transformations of Images\n",
    "1. Scaling. Resize the yoda image using cv2 resize() function, use as interploation argument cv2.INTER_CUBIC or cv2.INTER_AREA.\n",
    "2. Show the result.\n",
    "3. Translation. Shift location of object using cv2.warpAffline() function, whick takes as arguments the image, transformation matrix, that you can create using numpy and tuple, includes columns and rows.\n",
    "4. Show the result.\n",
    "5. To perform rotation, first, call cv2.getRotationMatrix2D() function, where are 3 arguments(center – center of the rotation in the source image, then angle – rotation angle in degrees, scale – Isotropic scale factor.).\n",
    "6. Perform affine transformation. You need 3 points from input image and their corresponding locations in output image. Then cv2.getAffineTransform will create a 2x3 matrix which is to be passed to cv2.warpAffine.\n",
    "6. Perform perspective transformation. \n",
    "7. Write down what Scaling does.\n",
    "8. Write down what Translation does.\n",
    "9. Write down what Rotation does.\n",
    "10. Write down what Affine transformation does."
   ]
  },
  {
   "cell_type": "code",
   "execution_count": null,
   "metadata": {},
   "outputs": [],
   "source": []
  },
  {
   "cell_type": "markdown",
   "metadata": {},
   "source": [
    "### 6. Image Thresholding\n",
    "1. To perform simple thresholding, use cv2.threshold() function, where first argument is the source image, which should be a grayscale image. Second argument is the threshold value which is used to classify the pixel values. Third argument is the maxVal which represents the value to be given if pixel value is more than (sometimes less than) the threshold value. And fourth argument is style of thresholding, use all of given below.\n",
    "    \n",
    "    Note:\n",
    "    - cv2.THRESH_BINARY\n",
    "    - cv2.THRESH_BINARY_INV\n",
    "    - cv2.THRESH_TRUNC\n",
    "    - cv2.THRESH_TOZERO\n",
    "    - cv2.THRESH_TOZERO_INV\n",
    "2. Make a list of names for resulting images.\n",
    "3. Make a list of images.\n",
    "4. Iterate over the list for displaying images.\n",
    "5. Explain Image Threasholding process."
   ]
  },
  {
   "cell_type": "code",
   "execution_count": null,
   "metadata": {},
   "outputs": [],
   "source": []
  },
  {
   "cell_type": "markdown",
   "metadata": {},
   "source": [
    "### 7. Image Smooting\n",
    "1. Perform averaging. It simply takes the average of all the pixels under kernel area and replace the central element. This is done by the function cv2.blur().\n",
    "2. Show the result using matplotlib.\n",
    "3. Perform Gaussian Blurring using function cv2.GaussianBlur(). We should specify the width and height of kernel which should be positive and odd. We also should specify the standard deviation in X and Y direction, sigmaX and sigmaY respectively. If only sigmaX is specified, sigmaY is taken as same as sigmaX. \n",
    "4. Show the result using matplotlib.\n",
    "5. Explain Image Smooting process."
   ]
  },
  {
   "cell_type": "code",
   "execution_count": null,
   "metadata": {},
   "outputs": [],
   "source": []
  },
  {
   "cell_type": "markdown",
   "metadata": {},
   "source": [
    "## Reference\n",
    "Please see the following official tutorials for more detailed explanation.\n",
    "    https://docs.opencv.org/master/d2/d96/tutorial_py_table_of_contents_imgproc.html\n",
    "    https://docs.opencv.org/3.0-beta/doc/py_tutorials/py_core/py_basic_ops/py_basic_ops.html"
   ]
  },
  {
   "cell_type": "code",
   "execution_count": null,
   "metadata": {},
   "outputs": [],
   "source": []
  }
 ],
 "metadata": {
  "kernelspec": {
   "display_name": "Python 3",
   "language": "python",
   "name": "python3"
  },
  "language_info": {
   "codemirror_mode": {
    "name": "ipython",
    "version": 3
   },
   "file_extension": ".py",
   "mimetype": "text/x-python",
   "name": "python",
   "nbconvert_exporter": "python",
   "pygments_lexer": "ipython3",
   "version": "3.8.3"
  }
 },
 "nbformat": 4,
 "nbformat_minor": 4
}
